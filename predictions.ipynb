{
 "cells": [
  {
   "cell_type": "code",
   "execution_count": 24,
   "metadata": {},
   "outputs": [],
   "source": [
    "import tensorflow as tf\n",
    "from tensorflow import keras\n",
    "from keras.models import load_model\n",
    "import numpy as np\n",
    "import cv2\n",
    "import time"
   ]
  },
  {
   "cell_type": "code",
   "execution_count": 25,
   "metadata": {},
   "outputs": [],
   "source": [
    "import tflearn\n",
    "from tflearn.layers.conv import conv_2d, max_pool_2d\n",
    "from tflearn.layers.core import input_data, dropout, fully_connected\n",
    "from tflearn.layers.estimator import regression"
   ]
  },
  {
   "cell_type": "markdown",
   "metadata": {},
   "source": [
    "## Loading the model"
   ]
  },
  {
   "cell_type": "markdown",
   "metadata": {},
   "source": [
    "Models with Keras"
   ]
  },
  {
   "cell_type": "code",
   "execution_count": 26,
   "metadata": {},
   "outputs": [],
   "source": [
    "def select_model(model):\n",
    "    models = ['keras_model.h5', 'model_upb.h5', 'model_upb_2.h5', 'model_upb_3.h5', 'model_upb_4.h5']\n",
    "    return load_model(models[model - 1], compile=False) "
   ]
  },
  {
   "cell_type": "code",
   "execution_count": 27,
   "metadata": {},
   "outputs": [],
   "source": [
    "def config_img(model, img):\n",
    "    if model == 1:\n",
    "        img = cv2.resize(img, (224, 224))\n",
    "        img = img.reshape(1, 224, 224, 3)\n",
    "    else:\n",
    "        img = cv2.cvtColor(img, cv2.COLOR_BGR2GRAY)\n",
    "        img = cv2.resize(img, (50, 50))\n",
    "        img = img.reshape(1, 50, 50, 1)\n",
    "    return img"
   ]
  },
  {
   "cell_type": "code",
   "execution_count": 10,
   "metadata": {},
   "outputs": [
    {
     "name": "stderr",
     "output_type": "stream",
     "text": [
      "2023-11-06 12:06:19.433057: W tensorflow/c/c_api.cc:300] Operation '{name:'conv2d_34_2/bias/Assign' id:22868 op device:{requested: '', assigned: ''} def:{{{node conv2d_34_2/bias/Assign}} = AssignVariableOp[_has_manual_control_dependencies=true, dtype=DT_FLOAT, validate_shape=false](conv2d_34_2/bias, conv2d_34_2/bias/Initializer/zeros)}}' was changed by setting attribute after it was run by a session. This mutation will have no effect, and will trigger an error in the future. Either don't modify nodes after running them or create a new session.\n",
      "2023-11-06 12:06:21.724297: W tensorflow/c/c_api.cc:300] Operation '{name:'dense_35_2/Softmax' id:22959 op device:{requested: '', assigned: ''} def:{{{node dense_35_2/Softmax}} = Softmax[T=DT_FLOAT, _has_manual_control_dependencies=true](dense_35_2/BiasAdd)}}' was changed by setting attribute after it was run by a session. This mutation will have no effect, and will trigger an error in the future. Either don't modify nodes after running them or create a new session.\n",
      "2023-11-06 12:06:38.358035: W tensorflow/c/c_api.cc:300] Operation '{name:'block_1_project_BN_2/beta/Assign' id:23435 op device:{requested: '', assigned: ''} def:{{{node block_1_project_BN_2/beta/Assign}} = AssignVariableOp[_has_manual_control_dependencies=true, dtype=DT_FLOAT, validate_shape=false](block_1_project_BN_2/beta, block_1_project_BN_2/beta/Initializer/zeros)}}' was changed by setting attribute after it was run by a session. This mutation will have no effect, and will trigger an error in the future. Either don't modify nodes after running them or create a new session.\n",
      "2023-11-06 12:06:50.773436: W tensorflow/c/c_api.cc:300] Operation '{name:'sequential_3_2/dense_Dense2/Softmax' id:32729 op device:{requested: '', assigned: ''} def:{{{node sequential_3_2/dense_Dense2/Softmax}} = Softmax[T=DT_FLOAT, _has_manual_control_dependencies=true](sequential_3_2/dense_Dense2/MatMul)}}' was changed by setting attribute after it was run by a session. This mutation will have no effect, and will trigger an error in the future. Either don't modify nodes after running them or create a new session.\n",
      "2023-11-06 12:07:39.354858: W tensorflow/c/c_api.cc:300] Operation '{name:'conv2d_33_3/bias/Assign' id:33821 op device:{requested: '', assigned: ''} def:{{{node conv2d_33_3/bias/Assign}} = AssignVariableOp[_has_manual_control_dependencies=true, dtype=DT_FLOAT, validate_shape=false](conv2d_33_3/bias, conv2d_33_3/bias/Initializer/zeros)}}' was changed by setting attribute after it was run by a session. This mutation will have no effect, and will trigger an error in the future. Either don't modify nodes after running them or create a new session.\n",
      "2023-11-06 12:07:41.788436: W tensorflow/c/c_api.cc:300] Operation '{name:'dense_33_3/Softmax' id:33890 op device:{requested: '', assigned: ''} def:{{{node dense_33_3/Softmax}} = Softmax[T=DT_FLOAT, _has_manual_control_dependencies=true](dense_33_3/BiasAdd)}}' was changed by setting attribute after it was run by a session. This mutation will have no effect, and will trigger an error in the future. Either don't modify nodes after running them or create a new session.\n",
      "2023-11-06 12:16:38.570064: W tensorflow/c/c_api.cc:300] Operation '{name:'block_6_expand_BN_3/beta/Assign' id:35440 op device:{requested: '', assigned: ''} def:{{{node block_6_expand_BN_3/beta/Assign}} = AssignVariableOp[_has_manual_control_dependencies=true, dtype=DT_FLOAT, validate_shape=false](block_6_expand_BN_3/beta, block_6_expand_BN_3/beta/Initializer/zeros)}}' was changed by setting attribute after it was run by a session. This mutation will have no effect, and will trigger an error in the future. Either don't modify nodes after running them or create a new session.\n",
      "2023-11-06 12:16:42.466996: W tensorflow/c/c_api.cc:300] Operation '{name:'sequential_3_3/dense_Dense2/Softmax' id:43660 op device:{requested: '', assigned: ''} def:{{{node sequential_3_3/dense_Dense2/Softmax}} = Softmax[T=DT_FLOAT, _has_manual_control_dependencies=true](sequential_3_3/dense_Dense2/MatMul)}}' was changed by setting attribute after it was run by a session. This mutation will have no effect, and will trigger an error in the future. Either don't modify nodes after running them or create a new session.\n",
      "2023-11-06 12:17:01.470579: W tensorflow/c/c_api.cc:300] Operation '{name:'conv2d_35_3/bias/Assign' id:44752 op device:{requested: '', assigned: ''} def:{{{node conv2d_35_3/bias/Assign}} = AssignVariableOp[_has_manual_control_dependencies=true, dtype=DT_FLOAT, validate_shape=false](conv2d_35_3/bias, conv2d_35_3/bias/Initializer/zeros)}}' was changed by setting attribute after it was run by a session. This mutation will have no effect, and will trigger an error in the future. Either don't modify nodes after running them or create a new session.\n",
      "2023-11-06 12:17:03.788522: W tensorflow/c/c_api.cc:300] Operation '{name:'dense_35_3/Softmax' id:44821 op device:{requested: '', assigned: ''} def:{{{node dense_35_3/Softmax}} = Softmax[T=DT_FLOAT, _has_manual_control_dependencies=true](dense_35_3/BiasAdd)}}' was changed by setting attribute after it was run by a session. This mutation will have no effect, and will trigger an error in the future. Either don't modify nodes after running them or create a new session.\n",
      "2023-11-06 12:21:20.359898: W tensorflow/c/c_api.cc:300] Operation '{name:'block_9_expand_BN_4/moving_variance/Assign' id:47126 op device:{requested: '', assigned: ''} def:{{{node block_9_expand_BN_4/moving_variance/Assign}} = AssignVariableOp[_has_manual_control_dependencies=true, dtype=DT_FLOAT, validate_shape=false](block_9_expand_BN_4/moving_variance, block_9_expand_BN_4/moving_variance/Initializer/ones)}}' was changed by setting attribute after it was run by a session. This mutation will have no effect, and will trigger an error in the future. Either don't modify nodes after running them or create a new session.\n",
      "2023-11-06 12:21:24.152630: W tensorflow/c/c_api.cc:300] Operation '{name:'sequential_3_4/dense_Dense2/Softmax' id:54591 op device:{requested: '', assigned: ''} def:{{{node sequential_3_4/dense_Dense2/Softmax}} = Softmax[T=DT_FLOAT, _has_manual_control_dependencies=true](sequential_3_4/dense_Dense2/MatMul)}}' was changed by setting attribute after it was run by a session. This mutation will have no effect, and will trigger an error in the future. Either don't modify nodes after running them or create a new session.\n"
     ]
    },
    {
     "data": {
      "text/plain": [
       "-1"
      ]
     },
     "execution_count": 10,
     "metadata": {},
     "output_type": "execute_result"
    }
   ],
   "source": [
    "facedetect = cv2.CascadeClassifier('haarcascade_frontalface_default.xml')\n",
    "\n",
    "cap = cv2.VideoCapture(0)\n",
    "cap.set(3, 640)\n",
    "cap.set(4, 480)\n",
    "font = cv2.FONT_HERSHEY_COMPLEX\n",
    "\n",
    "model_chosen = 4\n",
    "\n",
    "model = select_model(model_chosen)\n",
    "\n",
    "class_names = {\n",
    "     0: 'ALEJANDRA',\n",
    "     1: 'MAURICIO',\n",
    "     2: 'SEBASTIAN',\n",
    "     3: 'IGNACIO'\n",
    "}\n",
    "\n",
    "while True:\n",
    "    success, img_original = cap.read()\n",
    "    faces = facedetect.detectMultiScale(img_original, 1.3, 5)\n",
    "    for x, y, w, h in faces:\n",
    "        crop_img = img_original[y:y+h, x:x+w]\n",
    "        img = config_img(model_chosen, crop_img)\n",
    "        prediction = model.predict(img)\n",
    "        class_index = np.argmax(prediction)\n",
    "        probability = np.amax(prediction)\n",
    "\n",
    "        cv2.rectangle(img_original, (x, y), (x+w, y+h), (0, 255, 0), 2)\n",
    "        cv2.putText(img_original, class_names[class_index], (x, y-10), cv2.FONT_HERSHEY_SIMPLEX, 0.9, (0, 255, 0), 2)\n",
    "        \n",
    "        cv2.putText(img_original, str(int(probability*100))+\"%\", (x+w+20, y-10), cv2.FONT_HERSHEY_SIMPLEX, 0.9, (255, 0, 0), 2)\n",
    "    try:\n",
    "        cv2.imshow('Modelo '+str(model_chosen), img_original)\n",
    "    except:\n",
    "        pass\n",
    "\n",
    "    key = cv2.waitKey(1) & 0xFF\n",
    "\n",
    "    if key == ord('q'):\n",
    "        break\n",
    "    elif key in [ord('1'), ord('2'), ord('3'), ord('4')]:\n",
    "        model_chosen = int(chr(key))\n",
    "        model = select_model(model_chosen)\n",
    "\n",
    "cap.release()\n",
    "cv2.destroyAllWindows()\n",
    "cv2.waitKey(1)"
   ]
  },
  {
   "cell_type": "code",
   "execution_count": 28,
   "metadata": {},
   "outputs": [
    {
     "name": "stderr",
     "output_type": "stream",
     "text": [
      "2023-11-06 13:03:25.113100: W tensorflow/c/c_api.cc:300] Operation '{name:'conv2d_41/bias/Assign' id:78528 op device:{requested: '', assigned: ''} def:{{{node conv2d_41/bias/Assign}} = AssignVariableOp[_has_manual_control_dependencies=true, dtype=DT_FLOAT, validate_shape=false](conv2d_41/bias, conv2d_41/bias/Initializer/zeros)}}' was changed by setting attribute after it was run by a session. This mutation will have no effect, and will trigger an error in the future. Either don't modify nodes after running them or create a new session.\n",
      "2023-11-06 13:03:29.370059: W tensorflow/c/c_api.cc:300] Operation '{name:'dense_41/Softmax' id:78597 op device:{requested: '', assigned: ''} def:{{{node dense_41/Softmax}} = Softmax[T=DT_FLOAT, _has_manual_control_dependencies=true](dense_41/BiasAdd)}}' was changed by setting attribute after it was run by a session. This mutation will have no effect, and will trigger an error in the future. Either don't modify nodes after running them or create a new session.\n"
     ]
    },
    {
     "name": "stdout",
     "output_type": "stream",
     "text": [
      "Respondiste 'si' a MAURICIO\n",
      "Respondiste 'no' a IGNACIO\n",
      "Respondiste 'si' a MAURICIO\n",
      "Respondiste 'si' a MAURICIO\n"
     ]
    },
    {
     "data": {
      "text/plain": [
       "-1"
      ]
     },
     "execution_count": 28,
     "metadata": {},
     "output_type": "execute_result"
    }
   ],
   "source": [
    "facedetect = cv2.CascadeClassifier('haarcascade_frontalface_default.xml')\n",
    "cap = cv2.VideoCapture(0)\n",
    "cap.set(3, 640)\n",
    "cap.set(4, 480)\n",
    "\n",
    "class_names = {\n",
    "     0: 'ALEJANDRA',\n",
    "     1: 'MAURICIO',\n",
    "     2: 'SEBASTIAN',\n",
    "     3: 'IGNACIO'\n",
    "}\n",
    "\n",
    "model_chosen = 5\n",
    "model = select_model(model_chosen)\n",
    "\n",
    "predicted_person = None\n",
    "start_time = None\n",
    "confirmation_duration = 2000\n",
    "previous_predicted_person = None\n",
    "\n",
    "while True:\n",
    "    success, img_original = cap.read()\n",
    "    faces = facedetect.detectMultiScale(img_original, 1.3, 5)\n",
    "\n",
    "    for x, y, w, h in faces:\n",
    "        crop_img = img_original[y:y+h, x:x+w]\n",
    "        img = config_img(model_chosen, crop_img)\n",
    "        prediction = model.predict(img)\n",
    "        class_index = np.argmax(prediction)\n",
    "        predicted_person = class_names[class_index]\n",
    "        probability = np.amax(prediction)\n",
    "\n",
    "        cv2.rectangle(img_original, (x, y), (x+w, y+h), (0, 255, 0), 2)\n",
    "        cv2.putText(img_original, class_names[class_index], (x, y-10), cv2.FONT_HERSHEY_SIMPLEX, 0.9, (0, 255, 0), 2)\n",
    "        cv2.putText(img_original, str(int(probability*100))+\"%\", (x+w+20, y-10), cv2.FONT_HERSHEY_SIMPLEX, 0.9, (255, 0, 0), 2)\n",
    "        \n",
    "        if predicted_person:\n",
    "            if predicted_person != previous_predicted_person:\n",
    "                start_time = time.time()\n",
    "            elif time.time() - start_time >= confirmation_duration / 1000:\n",
    "                \n",
    "                banner = img_original.copy()\n",
    "                cv2.putText(banner, f\"Eres {predicted_person}? (S/N)\", (50, 50), cv2.FONT_HERSHEY_SIMPLEX, 1, (255, 255, 255), 2)\n",
    "                cv2.imshow('Confirmacion', banner)\n",
    "                \n",
    "                while True:\n",
    "                    key = cv2.waitKey(1) & 0xFF\n",
    "\n",
    "                    if key == ord('s'):\n",
    "                        print(f\"Respondiste 'si' a {predicted_person}\")\n",
    "                        previous_predicted_person = None\n",
    "                        break\n",
    "                    elif key == ord('n'):\n",
    "                        print(f\"Respondiste 'no' a {predicted_person}\")\n",
    "                        previous_predicted_person = None\n",
    "                        break\n",
    "\n",
    "                cv2.destroyWindow('Confirmacion')\n",
    "                continue\n",
    "        \n",
    "        previous_predicted_person = predicted_person\n",
    "\n",
    "    cv2.imshow('Modelo ' + str(model_chosen), img_original)\n",
    "\n",
    "    key = cv2.waitKey(1) & 0xFF\n",
    "\n",
    "    if key == ord('q'):\n",
    "        break\n",
    "    elif key in [ord('1'), ord('2'), ord('3'), ord('4')]:\n",
    "        model_chosen = int(chr(key))\n",
    "        model = select_model(model_chosen)\n",
    "\n",
    "cap.release()\n",
    "cv2.destroyAllWindows()\n",
    "cv2.waitKey(1)\n"
   ]
  }
 ],
 "metadata": {
  "kernelspec": {
   "display_name": "Python 3",
   "language": "python",
   "name": "python3"
  },
  "language_info": {
   "codemirror_mode": {
    "name": "ipython",
    "version": 3
   },
   "file_extension": ".py",
   "mimetype": "text/x-python",
   "name": "python",
   "nbconvert_exporter": "python",
   "pygments_lexer": "ipython3",
   "version": "3.11.5"
  }
 },
 "nbformat": 4,
 "nbformat_minor": 2
}
