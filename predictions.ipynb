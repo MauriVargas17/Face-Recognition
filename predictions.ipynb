{
 "cells": [
  {
   "cell_type": "code",
   "execution_count": 34,
   "metadata": {},
   "outputs": [],
   "source": [
    "import tensorflow as tf\n",
    "from tensorflow import keras\n",
    "from keras.models import load_model\n",
    "import numpy as np\n",
    "import cv2"
   ]
  },
  {
   "cell_type": "code",
   "execution_count": 35,
   "metadata": {},
   "outputs": [],
   "source": [
    "import tflearn\n",
    "from tflearn.layers.conv import conv_2d, max_pool_2d\n",
    "from tflearn.layers.core import input_data, dropout, fully_connected\n",
    "from tflearn.layers.estimator import regression"
   ]
  },
  {
   "cell_type": "markdown",
   "metadata": {},
   "source": [
    "## Loading the model"
   ]
  },
  {
   "cell_type": "markdown",
   "metadata": {},
   "source": [
    "Models with Keras"
   ]
  },
  {
   "cell_type": "code",
   "execution_count": 36,
   "metadata": {},
   "outputs": [],
   "source": [
    "def select_model(model):\n",
    "    models = ['keras_model.h5', 'model_upb.h5', 'model_upb_2.h5', 'model_upb_3.h5']\n",
    "    return load_model(models[model - 1], compile=False) "
   ]
  },
  {
   "cell_type": "code",
   "execution_count": 37,
   "metadata": {},
   "outputs": [],
   "source": [
    "def config_img(model, img):\n",
    "    if model == 1:\n",
    "        img = cv2.resize(img, (224, 224))\n",
    "        img = img.reshape(1, 224, 224, 3)\n",
    "    else:\n",
    "        img = cv2.cvtColor(img, cv2.COLOR_BGR2GRAY)\n",
    "        img = cv2.resize(img, (50, 50))\n",
    "        img = img.reshape(1, 50, 50, 1)\n",
    "    return img"
   ]
  },
  {
   "cell_type": "code",
   "execution_count": 38,
   "metadata": {},
   "outputs": [
    {
     "name": "stderr",
     "output_type": "stream",
     "text": [
      "2023-11-06 01:05:22.821630: W tensorflow/c/c_api.cc:300] Operation '{name:'dense_34_2/bias/Assign' id:57367 op device:{requested: '', assigned: ''} def:{{{node dense_34_2/bias/Assign}} = AssignVariableOp[_has_manual_control_dependencies=true, dtype=DT_FLOAT, validate_shape=false](dense_34_2/bias, dense_34_2/bias/Initializer/zeros)}}' was changed by setting attribute after it was run by a session. This mutation will have no effect, and will trigger an error in the future. Either don't modify nodes after running them or create a new session.\n",
      "2023-11-06 01:05:25.801536: W tensorflow/c/c_api.cc:300] Operation '{name:'dense_35_2/Softmax' id:57410 op device:{requested: '', assigned: ''} def:{{{node dense_35_2/Softmax}} = Softmax[T=DT_FLOAT, _has_manual_control_dependencies=true](dense_35_2/BiasAdd)}}' was changed by setting attribute after it was run by a session. This mutation will have no effect, and will trigger an error in the future. Either don't modify nodes after running them or create a new session.\n",
      "2023-11-06 01:05:37.025364: W tensorflow/c/c_api.cc:300] Operation '{name:'conv2d_33_2/kernel/Assign' id:57477 op device:{requested: '', assigned: ''} def:{{{node conv2d_33_2/kernel/Assign}} = AssignVariableOp[_has_manual_control_dependencies=true, dtype=DT_FLOAT, validate_shape=false](conv2d_33_2/kernel, conv2d_33_2/kernel/Initializer/random_uniform)}}' was changed by setting attribute after it was run by a session. This mutation will have no effect, and will trigger an error in the future. Either don't modify nodes after running them or create a new session.\n",
      "2023-11-06 01:05:39.985551: W tensorflow/c/c_api.cc:300] Operation '{name:'dense_33_2/Softmax' id:57551 op device:{requested: '', assigned: ''} def:{{{node dense_33_2/Softmax}} = Softmax[T=DT_FLOAT, _has_manual_control_dependencies=true](dense_33_2/BiasAdd)}}' was changed by setting attribute after it was run by a session. This mutation will have no effect, and will trigger an error in the future. Either don't modify nodes after running them or create a new session.\n",
      "2023-11-06 01:05:46.716694: W tensorflow/c/c_api.cc:300] Operation '{name:'dense_11_11/kernel/Assign' id:57679 op device:{requested: '', assigned: ''} def:{{{node dense_11_11/kernel/Assign}} = AssignVariableOp[_has_manual_control_dependencies=true, dtype=DT_FLOAT, validate_shape=false](dense_11_11/kernel, dense_11_11/kernel/Initializer/random_uniform)}}' was changed by setting attribute after it was run by a session. This mutation will have no effect, and will trigger an error in the future. Either don't modify nodes after running them or create a new session.\n",
      "2023-11-06 01:05:49.750388: W tensorflow/c/c_api.cc:300] Operation '{name:'dense_11_11/Softmax' id:57690 op device:{requested: '', assigned: ''} def:{{{node dense_11_11/Softmax}} = Softmax[T=DT_FLOAT, _has_manual_control_dependencies=true](dense_11_11/BiasAdd)}}' was changed by setting attribute after it was run by a session. This mutation will have no effect, and will trigger an error in the future. Either don't modify nodes after running them or create a new session.\n",
      "2023-11-06 01:06:07.132355: W tensorflow/c/c_api.cc:300] Operation '{name:'block_9_depthwise_BN_5/moving_variance/Assign' id:60079 op device:{requested: '', assigned: ''} def:{{{node block_9_depthwise_BN_5/moving_variance/Assign}} = AssignVariableOp[_has_manual_control_dependencies=true, dtype=DT_FLOAT, validate_shape=false](block_9_depthwise_BN_5/moving_variance, block_9_depthwise_BN_5/moving_variance/Initializer/ones)}}' was changed by setting attribute after it was run by a session. This mutation will have no effect, and will trigger an error in the future. Either don't modify nodes after running them or create a new session.\n",
      "2023-11-06 01:06:11.542542: W tensorflow/c/c_api.cc:300] Operation '{name:'sequential_3_5/dense_Dense2/Softmax' id:67460 op device:{requested: '', assigned: ''} def:{{{node sequential_3_5/dense_Dense2/Softmax}} = Softmax[T=DT_FLOAT, _has_manual_control_dependencies=true](sequential_3_5/dense_Dense2/MatMul)}}' was changed by setting attribute after it was run by a session. This mutation will have no effect, and will trigger an error in the future. Either don't modify nodes after running them or create a new session.\n",
      "2023-11-06 01:07:28.819730: W tensorflow/c/c_api.cc:300] Operation '{name:'conv2d_34_3/kernel/Assign' id:68525 op device:{requested: '', assigned: ''} def:{{{node conv2d_34_3/kernel/Assign}} = AssignVariableOp[_has_manual_control_dependencies=true, dtype=DT_FLOAT, validate_shape=false](conv2d_34_3/kernel, conv2d_34_3/kernel/Initializer/random_uniform)}}' was changed by setting attribute after it was run by a session. This mutation will have no effect, and will trigger an error in the future. Either don't modify nodes after running them or create a new session.\n",
      "2023-11-06 01:07:32.308747: W tensorflow/c/c_api.cc:300] Operation '{name:'dense_35_3/Softmax' id:68621 op device:{requested: '', assigned: ''} def:{{{node dense_35_3/Softmax}} = Softmax[T=DT_FLOAT, _has_manual_control_dependencies=true](dense_35_3/BiasAdd)}}' was changed by setting attribute after it was run by a session. This mutation will have no effect, and will trigger an error in the future. Either don't modify nodes after running them or create a new session.\n",
      "2023-11-06 01:07:52.298683: W tensorflow/c/c_api.cc:300] Operation '{name:'conv2d_32_3/kernel/Assign' id:68666 op device:{requested: '', assigned: ''} def:{{{node conv2d_32_3/kernel/Assign}} = AssignVariableOp[_has_manual_control_dependencies=true, dtype=DT_FLOAT, validate_shape=false](conv2d_32_3/kernel, conv2d_32_3/kernel/Initializer/random_uniform)}}' was changed by setting attribute after it was run by a session. This mutation will have no effect, and will trigger an error in the future. Either don't modify nodes after running them or create a new session.\n",
      "2023-11-06 01:07:55.831794: W tensorflow/c/c_api.cc:300] Operation '{name:'dense_33_3/Softmax' id:68762 op device:{requested: '', assigned: ''} def:{{{node dense_33_3/Softmax}} = Softmax[T=DT_FLOAT, _has_manual_control_dependencies=true](dense_33_3/BiasAdd)}}' was changed by setting attribute after it was run by a session. This mutation will have no effect, and will trigger an error in the future. Either don't modify nodes after running them or create a new session.\n",
      "2023-11-06 01:08:12.990796: W tensorflow/c/c_api.cc:300] Operation '{name:'conv2d_26_12/kernel/Assign' id:68829 op device:{requested: '', assigned: ''} def:{{{node conv2d_26_12/kernel/Assign}} = AssignVariableOp[_has_manual_control_dependencies=true, dtype=DT_FLOAT, validate_shape=false](conv2d_26_12/kernel, conv2d_26_12/kernel/Initializer/random_uniform)}}' was changed by setting attribute after it was run by a session. This mutation will have no effect, and will trigger an error in the future. Either don't modify nodes after running them or create a new session.\n",
      "2023-11-06 01:08:16.524807: W tensorflow/c/c_api.cc:300] Operation '{name:'dense_11_12/Softmax' id:68901 op device:{requested: '', assigned: ''} def:{{{node dense_11_12/Softmax}} = Softmax[T=DT_FLOAT, _has_manual_control_dependencies=true](dense_11_12/BiasAdd)}}' was changed by setting attribute after it was run by a session. This mutation will have no effect, and will trigger an error in the future. Either don't modify nodes after running them or create a new session.\n",
      "2023-11-06 01:08:40.988588: W tensorflow/c/c_api.cc:300] Operation '{name:'block_4_expand_BN_6/gamma/Assign' id:69950 op device:{requested: '', assigned: ''} def:{{{node block_4_expand_BN_6/gamma/Assign}} = AssignVariableOp[_has_manual_control_dependencies=true, dtype=DT_FLOAT, validate_shape=false](block_4_expand_BN_6/gamma, block_4_expand_BN_6/gamma/Initializer/ones)}}' was changed by setting attribute after it was run by a session. This mutation will have no effect, and will trigger an error in the future. Either don't modify nodes after running them or create a new session.\n",
      "2023-11-06 01:08:45.942249: W tensorflow/c/c_api.cc:300] Operation '{name:'sequential_3_6/dense_Dense2/Softmax' id:78671 op device:{requested: '', assigned: ''} def:{{{node sequential_3_6/dense_Dense2/Softmax}} = Softmax[T=DT_FLOAT, _has_manual_control_dependencies=true](sequential_3_6/dense_Dense2/MatMul)}}' was changed by setting attribute after it was run by a session. This mutation will have no effect, and will trigger an error in the future. Either don't modify nodes after running them or create a new session.\n"
     ]
    },
    {
     "data": {
      "text/plain": [
       "-1"
      ]
     },
     "execution_count": 38,
     "metadata": {},
     "output_type": "execute_result"
    }
   ],
   "source": [
    "facedetect = cv2.CascadeClassifier('haarcascade_frontalface_default.xml')\n",
    "\n",
    "cap = cv2.VideoCapture(0)\n",
    "cap.set(3, 640)\n",
    "cap.set(4, 480)\n",
    "font = cv2.FONT_HERSHEY_COMPLEX\n",
    "\n",
    "model_chosen = 4\n",
    "\n",
    "model = select_model(model_chosen)\n",
    "\n",
    "class_names = {\n",
    "     0: 'ALEJANDRA',\n",
    "     1: 'MAURICIO',\n",
    "     2: 'SEBASTIAN',\n",
    "     3: 'IGNACIO'\n",
    "}\n",
    "\n",
    "while True:\n",
    "    success, img_original = cap.read()\n",
    "    faces = facedetect.detectMultiScale(img_original, 1.3, 5)\n",
    "    for x, y, w, h in faces:\n",
    "        crop_img = img_original[y:y+h, x:x+w]\n",
    "        img = config_img(model_chosen, crop_img)\n",
    "        prediction = model.predict(img)\n",
    "        class_index = np.argmax(prediction)\n",
    "        probability = np.amax(prediction)\n",
    "\n",
    "        cv2.rectangle(img_original, (x, y), (x+w, y+h), (0, 255, 0), 2)\n",
    "        cv2.putText(img_original, class_names[class_index], (x, y-10), cv2.FONT_HERSHEY_SIMPLEX, 0.9, (0, 255, 0), 2)\n",
    "        \n",
    "        cv2.putText(img_original, str(int(probability*100))+\"%\", (x+w+20, y-10), cv2.FONT_HERSHEY_SIMPLEX, 0.9, (255, 0, 0), 2)\n",
    "    try:\n",
    "        cv2.imshow('Modelo '+str(model_chosen), img_original)\n",
    "    except:\n",
    "        pass\n",
    "\n",
    "    key = cv2.waitKey(1) & 0xFF\n",
    "\n",
    "    if key == ord('q'):\n",
    "        break\n",
    "    elif key in [ord('1'), ord('2'), ord('3'), ord('4')]:\n",
    "        model_chosen = int(chr(key))\n",
    "        model = select_model(model_chosen)\n",
    "\n",
    "cap.release()\n",
    "cv2.destroyAllWindows()\n",
    "cv2.waitKey(1)"
   ]
  }
 ],
 "metadata": {
  "kernelspec": {
   "display_name": "Python 3",
   "language": "python",
   "name": "python3"
  },
  "language_info": {
   "codemirror_mode": {
    "name": "ipython",
    "version": 3
   },
   "file_extension": ".py",
   "mimetype": "text/x-python",
   "name": "python",
   "nbconvert_exporter": "python",
   "pygments_lexer": "ipython3",
   "version": "3.11.5"
  }
 },
 "nbformat": 4,
 "nbformat_minor": 2
}
