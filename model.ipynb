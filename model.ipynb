{
 "cells": [
  {
   "cell_type": "code",
   "execution_count": 59,
   "metadata": {},
   "outputs": [],
   "source": [
    "import os\n",
    "import cv2\n",
    "import numpy as np\n",
    "from random import shuffle\n",
    "from tqdm import tqdm\n",
    "import tensorflow as tf\n",
    "from tensorflow import keras\n",
    "from tensorflow.keras.callbacks import TensorBoard\n",
    "import time"
   ]
  },
  {
   "cell_type": "code",
   "execution_count": 60,
   "metadata": {},
   "outputs": [
    {
     "name": "stderr",
     "output_type": "stream",
     "text": [
      " 69%|██████▉   | 344/497 [00:00<00:00, 1733.25it/s]"
     ]
    },
    {
     "name": "stdout",
     "output_type": "stream",
     "text": [
      "OpenCV(4.8.1) /Users/runner/work/opencv-python/opencv-python/opencv/modules/imgproc/src/resize.cpp:4062: error: (-215:Assertion failed) !ssize.empty() in function 'resize'\n",
      "\n"
     ]
    },
    {
     "name": "stderr",
     "output_type": "stream",
     "text": [
      "100%|██████████| 497/497 [00:00<00:00, 1723.44it/s]"
     ]
    },
    {
     "name": "stdout",
     "output_type": "stream",
     "text": [
      "(277, 50, 50, 1)\n",
      "(120, 50, 50, 1)\n"
     ]
    },
    {
     "name": "stderr",
     "output_type": "stream",
     "text": [
      "\n"
     ]
    }
   ],
   "source": [
    "people = [\"Ale\", \"Mauricio Vargas\", \"Sebastian Rojas\", \"Ignacio Valencia\"]\n",
    "\n",
    "def create_label_dict(names, size):\n",
    "    label_dict = {}\n",
    "    for name in names:\n",
    "        label = np.zeros(size)\n",
    "        label[names.index(name)] = 1\n",
    "        label_dict[name] = label\n",
    "    return label_dict\n",
    "\n",
    "size_people = len(people)\n",
    "name_pos_dict = create_label_dict(people, size_people)\n",
    "\n",
    "def my_data():\n",
    "    data = []\n",
    "    for img in tqdm(os.listdir(\"images\")):\n",
    "        path = os.path.join(\"images\", img)\n",
    "        img_name = img.split('.')[0]\n",
    "        img_data = cv2.imread(path, cv2.IMREAD_GRAYSCALE)\n",
    "        try:\n",
    "            img_data = cv2.resize(img_data, (50, 50))\n",
    "        except Exception as e:\n",
    "            print(e)\n",
    "        if img_name in name_pos_dict:\n",
    "            data.append([np.array(img_data), name_pos_dict[img_name]])\n",
    "    shuffle(data)\n",
    "    return data\n",
    "\n",
    "data = my_data()\n",
    "len(data)\n",
    "\n",
    "train_percentage = 0.7\n",
    "split_point = int(len(data) * train_percentage)\n",
    "\n",
    "train = data[:split_point]\n",
    "test = data[split_point:]\n",
    "X_train = np.array([i[0] for i in train]).reshape(-1, 50, 50, 1)\n",
    "print(X_train.shape)\n",
    "y_train = np.array([i[1] for i in train]) \n",
    "X_test = np.array([i[0] for i in test]).reshape(-1, 50, 50, 1)\n",
    "print(X_test.shape)\n",
    "y_test = np.array([i[1] for i in test]) \n"
   ]
  },
  {
   "cell_type": "code",
   "execution_count": 61,
   "metadata": {},
   "outputs": [
    {
     "name": "stdout",
     "output_type": "stream",
     "text": [
      "Epoch 1/6\n",
      "9/9 [==============================] - 2s 58ms/step - loss: 8.0325 - accuracy: 0.2960 - val_loss: 1.7926 - val_accuracy: 0.4250\n",
      "Epoch 2/6\n",
      "9/9 [==============================] - 0s 30ms/step - loss: 1.1397 - accuracy: 0.5632 - val_loss: 0.8703 - val_accuracy: 0.5500\n",
      "Epoch 3/6\n",
      "9/9 [==============================] - 0s 33ms/step - loss: 0.7078 - accuracy: 0.7076 - val_loss: 0.4480 - val_accuracy: 0.7750\n",
      "Epoch 4/6\n",
      "9/9 [==============================] - 0s 31ms/step - loss: 0.3916 - accuracy: 0.8195 - val_loss: 0.3441 - val_accuracy: 0.8083\n",
      "Epoch 5/6\n",
      "9/9 [==============================] - 0s 31ms/step - loss: 0.2278 - accuracy: 0.9170 - val_loss: 0.0970 - val_accuracy: 0.9833\n",
      "Epoch 6/6\n",
      "9/9 [==============================] - 0s 29ms/step - loss: 0.0822 - accuracy: 0.9819 - val_loss: 0.0466 - val_accuracy: 0.9917\n"
     ]
    }
   ],
   "source": [
    "model_name = \"model_upb_4_{}\".format(int(time.time()))\n",
    "\n",
    "log_dir = \"tensor-logs/{}\".format(model_name) \n",
    "\n",
    "if not os.path.exists(log_dir):\n",
    "    os.makedirs(log_dir)\n",
    "\n",
    "model = keras.Sequential()\n",
    "\n",
    "model.add(keras.layers.Conv2D(32, (5, 5), activation='relu', input_shape=(50, 50, 1)))\n",
    "model.add(keras.layers.MaxPooling2D(pool_size=(5, 5)))\n",
    "model.add(keras.layers.Conv2D(64, (5, 5), activation='relu'))\n",
    "model.add(keras.layers.MaxPooling2D(pool_size=(5, 5)))\n",
    "\n",
    "model.add(keras.layers.Flatten())\n",
    "model.add(keras.layers.Dense(1024, activation='relu'))\n",
    "model.add(keras.layers.Dropout(0.5))\n",
    "model.add(keras.layers.Dense(size_people, activation='softmax'))\n",
    "\n",
    "model.compile(optimizer='adam', loss='categorical_crossentropy', metrics=['accuracy'])\n",
    "\n",
    "tensorboard_callback = TensorBoard(log_dir=log_dir)\n",
    "\n",
    "model.fit(X_train, y_train, epochs=6, validation_data=(X_test, y_test), verbose=1, callbacks=[tensorboard_callback])\n",
    "\n",
    "model.save(\"model_upb_4.h5\")"
   ]
  }
 ],
 "metadata": {
  "kernelspec": {
   "display_name": "Python 3",
   "language": "python",
   "name": "python3"
  },
  "language_info": {
   "codemirror_mode": {
    "name": "ipython",
    "version": 3
   },
   "file_extension": ".py",
   "mimetype": "text/x-python",
   "name": "python",
   "nbconvert_exporter": "python",
   "pygments_lexer": "ipython3",
   "version": "3.11.5"
  }
 },
 "nbformat": 4,
 "nbformat_minor": 2
}
