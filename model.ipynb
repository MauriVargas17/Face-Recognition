{
 "cells": [
  {
   "cell_type": "code",
   "execution_count": 50,
   "metadata": {},
   "outputs": [],
   "source": [
    "import os\n",
    "import cv2\n",
    "import numpy as np\n",
    "from random import shuffle\n",
    "from tqdm import tqdm\n",
    "import tensorflow as tf\n",
    "from tensorflow import keras\n",
    "from tensorflow.keras.callbacks import TensorBoard\n",
    "import time"
   ]
  },
  {
   "cell_type": "code",
   "execution_count": 51,
   "metadata": {},
   "outputs": [
    {
     "name": "stderr",
     "output_type": "stream",
     "text": [
      "100%|██████████| 397/397 [00:00<00:00, 2761.52it/s]"
     ]
    },
    {
     "name": "stdout",
     "output_type": "stream",
     "text": [
      "OpenCV(4.8.1) /Users/runner/work/opencv-python/opencv-python/opencv/modules/imgproc/src/resize.cpp:4062: error: (-215:Assertion failed) !ssize.empty() in function 'resize'\n",
      "\n",
      "(67, 50, 50, 1)\n",
      "(329, 50, 50, 1)\n"
     ]
    },
    {
     "name": "stderr",
     "output_type": "stream",
     "text": [
      "\n"
     ]
    }
   ],
   "source": [
    "people = [\"Alejandra Garcia\", \"Mauricio Vargas\", \"Sebastian Rojas\", \"Ignacio Valencia\"]\n",
    "\n",
    "def create_label_dict(names, size):\n",
    "    label_dict = {}\n",
    "    for name in names:\n",
    "        label = np.zeros(size)\n",
    "        label[names.index(name)] = 1\n",
    "        label_dict[name] = label\n",
    "    return label_dict\n",
    "\n",
    "size_people = len(people)\n",
    "name_pos_dict = create_label_dict(people, size_people)\n",
    "\n",
    "def my_data():\n",
    "    data = []\n",
    "    for img in tqdm(os.listdir(\"images\")):\n",
    "        path = os.path.join(\"images\", img)\n",
    "        img_name = img.split('.')[0]\n",
    "        img_data = cv2.imread(path, cv2.IMREAD_GRAYSCALE)\n",
    "        try:\n",
    "            img_data = cv2.resize(img_data, (50, 50))\n",
    "        except Exception as e:\n",
    "            print(e)\n",
    "        if img_name in name_pos_dict:\n",
    "            data.append([np.array(img_data), name_pos_dict[img_name]])\n",
    "    shuffle(data)\n",
    "    return data\n",
    "\n",
    "data = my_data()\n",
    "len(data)\n",
    "\n",
    "train_percentage = 0.17\n",
    "split_point = int(len(data) * train_percentage)\n",
    "\n",
    "train = data[:split_point]\n",
    "test = data[split_point:]\n",
    "X_train = np.array([i[0] for i in train]).reshape(-1, 50, 50, 1)\n",
    "print(X_train.shape)\n",
    "y_train = np.array([i[1] for i in train]) \n",
    "X_test = np.array([i[0] for i in test]).reshape(-1, 50, 50, 1)\n",
    "print(X_test.shape)\n",
    "y_test = np.array([i[1] for i in test]) \n"
   ]
  },
  {
   "cell_type": "code",
   "execution_count": 52,
   "metadata": {},
   "outputs": [
    {
     "name": "stdout",
     "output_type": "stream",
     "text": [
      "Epoch 1/21\n",
      "3/3 [==============================] - 2s 170ms/step - loss: 22.5791 - accuracy: 0.2388 - val_loss: 30.0127 - val_accuracy: 0.2340\n",
      "Epoch 2/21\n",
      "3/3 [==============================] - 0s 67ms/step - loss: 32.5366 - accuracy: 0.2537 - val_loss: 7.1470 - val_accuracy: 0.2492\n",
      "Epoch 3/21\n",
      "3/3 [==============================] - 0s 64ms/step - loss: 8.4221 - accuracy: 0.2537 - val_loss: 6.3010 - val_accuracy: 0.2462\n",
      "Epoch 4/21\n",
      "3/3 [==============================] - 0s 68ms/step - loss: 6.7388 - accuracy: 0.1940 - val_loss: 3.7951 - val_accuracy: 0.2523\n",
      "Epoch 5/21\n",
      "3/3 [==============================] - 0s 67ms/step - loss: 3.0266 - accuracy: 0.2388 - val_loss: 2.6564 - val_accuracy: 0.2492\n",
      "Epoch 6/21\n",
      "3/3 [==============================] - 0s 68ms/step - loss: 2.8242 - accuracy: 0.2687 - val_loss: 1.6802 - val_accuracy: 0.2553\n",
      "Epoch 7/21\n",
      "3/3 [==============================] - 0s 66ms/step - loss: 1.7052 - accuracy: 0.3731 - val_loss: 1.5820 - val_accuracy: 0.2462\n",
      "Epoch 8/21\n",
      "3/3 [==============================] - 0s 66ms/step - loss: 1.5094 - accuracy: 0.3433 - val_loss: 1.1498 - val_accuracy: 0.2979\n",
      "Epoch 9/21\n",
      "3/3 [==============================] - 0s 68ms/step - loss: 1.0920 - accuracy: 0.4776 - val_loss: 1.0148 - val_accuracy: 0.5562\n",
      "Epoch 10/21\n",
      "3/3 [==============================] - 0s 66ms/step - loss: 0.9984 - accuracy: 0.5821 - val_loss: 0.9219 - val_accuracy: 0.5046\n",
      "Epoch 11/21\n",
      "3/3 [==============================] - 0s 65ms/step - loss: 0.9150 - accuracy: 0.5373 - val_loss: 0.6460 - val_accuracy: 0.9149\n",
      "Epoch 12/21\n",
      "3/3 [==============================] - 0s 64ms/step - loss: 0.6447 - accuracy: 0.7612 - val_loss: 0.5769 - val_accuracy: 0.7812\n",
      "Epoch 13/21\n",
      "3/3 [==============================] - 0s 65ms/step - loss: 0.4940 - accuracy: 0.8507 - val_loss: 0.5845 - val_accuracy: 0.6383\n",
      "Epoch 14/21\n",
      "3/3 [==============================] - 0s 65ms/step - loss: 0.5462 - accuracy: 0.7015 - val_loss: 0.3049 - val_accuracy: 0.9666\n",
      "Epoch 15/21\n",
      "3/3 [==============================] - 0s 66ms/step - loss: 0.3222 - accuracy: 0.9254 - val_loss: 0.2216 - val_accuracy: 0.9848\n",
      "Epoch 16/21\n",
      "3/3 [==============================] - 0s 66ms/step - loss: 0.1988 - accuracy: 0.9701 - val_loss: 0.1738 - val_accuracy: 0.9878\n",
      "Epoch 17/21\n",
      "3/3 [==============================] - 0s 67ms/step - loss: 0.1457 - accuracy: 0.9701 - val_loss: 0.1515 - val_accuracy: 0.9696\n",
      "Epoch 18/21\n",
      "3/3 [==============================] - 0s 67ms/step - loss: 0.0886 - accuracy: 0.9851 - val_loss: 0.0576 - val_accuracy: 1.0000\n",
      "Epoch 19/21\n",
      "3/3 [==============================] - 0s 64ms/step - loss: 0.0411 - accuracy: 1.0000 - val_loss: 0.0700 - val_accuracy: 0.9970\n",
      "Epoch 20/21\n",
      "3/3 [==============================] - 0s 65ms/step - loss: 0.0669 - accuracy: 1.0000 - val_loss: 0.0330 - val_accuracy: 1.0000\n",
      "Epoch 21/21\n",
      "3/3 [==============================] - 0s 66ms/step - loss: 0.0205 - accuracy: 1.0000 - val_loss: 0.0188 - val_accuracy: 1.0000\n"
     ]
    }
   ],
   "source": [
    "model_name = \"model_upb_3_{}\".format(int(time.time()))\n",
    "\n",
    "log_dir = \"tensor-logs/{}\".format(model_name) \n",
    "\n",
    "if not os.path.exists(log_dir):\n",
    "    os.makedirs(log_dir)\n",
    "\n",
    "model = keras.Sequential()\n",
    "\n",
    "model.add(keras.layers.Conv2D(32, (5, 5), activation='relu', input_shape=(50, 50, 1)))\n",
    "model.add(keras.layers.MaxPooling2D(pool_size=(5, 5)))\n",
    "model.add(keras.layers.Conv2D(128, (5, 5), activation='relu'))\n",
    "model.add(keras.layers.MaxPooling2D(pool_size=(5, 5)))\n",
    "\n",
    "model.add(keras.layers.Flatten())\n",
    "model.add(keras.layers.Dense(1024, activation='relu'))\n",
    "model.add(keras.layers.Dropout(0.1))\n",
    "model.add(keras.layers.Dense(size_people, activation='softmax'))\n",
    "\n",
    "model.compile(optimizer='adam', loss='categorical_crossentropy', metrics=['accuracy'])\n",
    "\n",
    "tensorboard_callback = TensorBoard(log_dir=log_dir)\n",
    "\n",
    "model.fit(X_train, y_train, epochs=21, validation_data=(X_test, y_test), verbose=1, callbacks=[tensorboard_callback])\n",
    "\n",
    "model.save(\"model_upb_3.h5\")"
   ]
  }
 ],
 "metadata": {
  "kernelspec": {
   "display_name": "Python 3",
   "language": "python",
   "name": "python3"
  },
  "language_info": {
   "codemirror_mode": {
    "name": "ipython",
    "version": 3
   },
   "file_extension": ".py",
   "mimetype": "text/x-python",
   "name": "python",
   "nbconvert_exporter": "python",
   "pygments_lexer": "ipython3",
   "version": "3.11.5"
  }
 },
 "nbformat": 4,
 "nbformat_minor": 2
}
